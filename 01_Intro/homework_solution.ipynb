{
 "cells": [
  {
   "cell_type": "code",
   "execution_count": 1,
   "id": "af608f97",
   "metadata": {},
   "outputs": [],
   "source": [
    "import pandas as pd"
   ]
  },
  {
   "cell_type": "code",
   "execution_count": 2,
   "id": "e61538b5",
   "metadata": {},
   "outputs": [],
   "source": [
    "from sklearn.feature_extraction import DictVectorizer\n",
    "from sklearn.linear_model import LinearRegression\n",
    "from sklearn.metrics import mean_squared_error"
   ]
  },
  {
   "cell_type": "markdown",
   "id": "f29fdb50",
   "metadata": {},
   "source": [
    "# Questions"
   ]
  },
  {
   "cell_type": "markdown",
   "id": "d67ee4f8",
   "metadata": {},
   "source": [
    "## Q1- Download data\n",
    "- Use Yellow taxi trip dataset\n",
    "- 2023/01 and 02 data\n",
    "- For January. How many columns are there ?"
   ]
  },
  {
   "cell_type": "code",
   "execution_count": 3,
   "id": "9db6a837",
   "metadata": {},
   "outputs": [
    {
     "data": {
      "text/plain": [
       "19"
      ]
     },
     "execution_count": 3,
     "metadata": {},
     "output_type": "execute_result"
    }
   ],
   "source": [
    "# Load the dataset\n",
    "df = pd.read_parquet('./dataset/yellow_tripdata_2023-01.parquet')\n",
    "len(df.columns)"
   ]
  },
  {
   "cell_type": "markdown",
   "id": "2479b4c4",
   "metadata": {},
   "source": [
    "## Q2 - Computing duration\n",
    "- What is the standar deviation of the trips durations in January"
   ]
  },
  {
   "cell_type": "code",
   "execution_count": 4,
   "id": "9f8d639d",
   "metadata": {},
   "outputs": [
    {
     "data": {
      "text/plain": [
       "42.594351241920904"
      ]
     },
     "execution_count": 4,
     "metadata": {},
     "output_type": "execute_result"
    }
   ],
   "source": [
    "# Transform strings into datetime format\n",
    "df.tpep_dropoff_datetime = pd.to_datetime(df.tpep_dropoff_datetime)\n",
    "df.tpep_pickup_datetime = pd.to_datetime(df.tpep_pickup_datetime)\n",
    "\n",
    "# Calculate difference into a new column\n",
    "df['duration'] = df.tpep_dropoff_datetime - df.tpep_pickup_datetime\n",
    "\n",
    "# Transforms datetime to minutes\n",
    "df.duration = df.duration.apply (lambda td: td.total_seconds() /60)\n",
    "\n",
    "# Show std deviation\n",
    "df['duration'].std()"
   ]
  },
  {
   "cell_type": "markdown",
   "id": "e9556a44",
   "metadata": {},
   "source": [
    "## Q3 - Droping outliers\n",
    "Remove outliers keeping duraiont between 1 and 60 minutes (inclusive)\n",
    "\n",
    "- What fraction of the records left after you dropped the outliers ?"
   ]
  },
  {
   "cell_type": "code",
   "execution_count": 5,
   "id": "504c6fc9",
   "metadata": {},
   "outputs": [
    {
     "data": {
      "text/plain": [
       "98.1220282212598"
      ]
     },
     "execution_count": 5,
     "metadata": {},
     "output_type": "execute_result"
    }
   ],
   "source": [
    "# Remove outliers. Keep: 1 <= duration <= 60 minutes\n",
    "clean_df = df[(df.duration >=1) & (df.duration <=60)]\n",
    "\n",
    "# Fraction of records keept\n",
    "len(clean_df) / len(df) * 100"
   ]
  },
  {
   "cell_type": "markdown",
   "id": "21bf1f83",
   "metadata": {},
   "source": [
    "Q4 - One-hot encoding\n",
    "Apply one-hot encoding to the pickup and dropoff locations IDS. We'll use only these two features for our model.\n",
    "- Turn the dataframe into a list of dictionaries (remember to re-cast the IDs to strings - otherwiese it will label encode them)\n",
    "- Fit a dictionary vectorizer\n",
    "- Get a feature matrix from it\n",
    "\n",
    "What's the dimensionality of this matrix (number of columns) ?"
   ]
  },
  {
   "cell_type": "code",
   "execution_count": 12,
   "id": "d7f80ada",
   "metadata": {},
   "outputs": [],
   "source": [
    "# Use the clean data\n",
    "df = clean_df\n",
    "\n",
    "# Columns used for categorical features\n",
    "categorical = ['PULocationID','DOLocationID']\n",
    "\n",
    "# Turns categorical columns into strings\n",
    "df[categorical] = df[categorical].astype(str)\n",
    "\n",
    "# Createst the dictionary\n",
    "train_dicts = df [categorical].to_dict(orient='records')\n",
    "\n",
    "# Fit a dictionary vectorizer\n",
    "dv = DictVectorizer()\n",
    "\n",
    "# Get a feature matrix\n",
    "X_train = dv.fit_transform(train_dicts)"
   ]
  },
  {
   "cell_type": "code",
   "execution_count": 13,
   "id": "e71f2744",
   "metadata": {},
   "outputs": [
    {
     "data": {
      "text/plain": [
       "515"
      ]
     },
     "execution_count": 13,
     "metadata": {},
     "output_type": "execute_result"
    }
   ],
   "source": [
    "X_train.shape[1]"
   ]
  },
  {
   "cell_type": "markdown",
   "id": "99bb2b08",
   "metadata": {},
   "source": [
    "## Q5 - Training a Model\n",
    "Now let's use the feature matrix from the previous step to train a model.\n",
    "\n",
    "- Train a plain linear regression model with default parameters, where `duration` is the response variable\n",
    "- Calculate the RMSE of the model on the training data\n",
    "\n",
    "What's the RMSE on train?"
   ]
  },
  {
   "cell_type": "code",
   "execution_count": 8,
   "id": "884d5c00",
   "metadata": {},
   "outputs": [
    {
     "data": {
      "text/plain": [
       "LinearRegression()"
      ]
     },
     "execution_count": 8,
     "metadata": {},
     "output_type": "execute_result"
    }
   ],
   "source": [
    "# Set the target and create a training target\n",
    "target = 'duration'\n",
    "y_train = df[target].values\n",
    "\n",
    "# Calculate a linear regression\n",
    "lr = LinearRegression()\n",
    "lr.fit(X_train, y_train)"
   ]
  },
  {
   "cell_type": "code",
   "execution_count": 9,
   "id": "3ab9c2ee",
   "metadata": {},
   "outputs": [
    {
     "data": {
      "text/plain": [
       "7.649261027780877"
      ]
     },
     "execution_count": 9,
     "metadata": {},
     "output_type": "execute_result"
    }
   ],
   "source": [
    "# Use the regresion to calculate estimations for the training and then compare it with the real value.\n",
    "y_train_pred = lr.predict(X_train)\n",
    "\n",
    "# Calculate RMSE\n",
    "mean_squared_error(y_train, y_train_pred, squared=False)"
   ]
  },
  {
   "cell_type": "markdown",
   "id": "24519590",
   "metadata": {},
   "source": [
    "## Q6 - Evaluating the model\n",
    "\n",
    "Now let's apply this model to the validation dataset (February 2023).\n",
    "\n",
    "What's the RMSE on validation?"
   ]
  },
  {
   "cell_type": "code",
   "execution_count": 10,
   "id": "d1c191d9",
   "metadata": {},
   "outputs": [],
   "source": [
    "# Load the validation dataset (Feb 2023)\n",
    "df_val = pd.read_parquet('./dataset/yellow_tripdata_2023-02.parquet')\n",
    "\n",
    "# Transform strings into datetime format\n",
    "df_val.tpep_dropoff_datetime = pd.to_datetime(df_val.tpep_dropoff_datetime)\n",
    "df_val.tpep_pickup_datetime = pd.to_datetime(df_val.tpep_pickup_datetime)\n",
    "\n",
    "# Calculate difference into a new column\n",
    "df_val['duration'] = df_val.tpep_dropoff_datetime - df_val.tpep_pickup_datetime\n",
    "\n",
    "# Transforms datetime to minutes\n",
    "df_val.duration = df_val.duration.apply (lambda td: td.total_seconds() /60)\n",
    "\n",
    "# Filter outliers\n",
    "df_val=df_val[(df_val.duration >=1) & (df_val.duration <=60)]"
   ]
  },
  {
   "cell_type": "code",
   "execution_count": 14,
   "id": "c3677e8f",
   "metadata": {},
   "outputs": [],
   "source": [
    "# Turns categorical columns into strings\n",
    "df_val[categorical] = df_val[categorical].astype(str)\n",
    "\n",
    "# Creates the dictionary\n",
    "validation_dicts = df_val[categorical].to_dict(orient='records')\n",
    "\n",
    "# Get a feature matrix\n",
    "X_validation = dv.transform(validation_dicts)"
   ]
  },
  {
   "cell_type": "code",
   "execution_count": 23,
   "id": "c74085a8",
   "metadata": {},
   "outputs": [
    {
     "data": {
      "text/plain": [
       "7.811832644833854"
      ]
     },
     "execution_count": 23,
     "metadata": {},
     "output_type": "execute_result"
    }
   ],
   "source": [
    "# Get predictions for validation set\n",
    "y_val_pred = lr.predict(X_validation)\n",
    "\n",
    "# Real values in validation set\n",
    "y_val = df_val[target].values\n",
    "\n",
    "# Calculate RMSE\n",
    "mean_squared_error(y_val, y_val_pred, squared=False)"
   ]
  },
  {
   "cell_type": "code",
   "execution_count": null,
   "id": "3c7eff70",
   "metadata": {},
   "outputs": [],
   "source": []
  }
 ],
 "metadata": {
  "kernelspec": {
   "display_name": "Python 3 (ipykernel)",
   "language": "python",
   "name": "python3"
  },
  "language_info": {
   "codemirror_mode": {
    "name": "ipython",
    "version": 3
   },
   "file_extension": ".py",
   "mimetype": "text/x-python",
   "name": "python",
   "nbconvert_exporter": "python",
   "pygments_lexer": "ipython3",
   "version": "3.9.12"
  }
 },
 "nbformat": 4,
 "nbformat_minor": 5
}
