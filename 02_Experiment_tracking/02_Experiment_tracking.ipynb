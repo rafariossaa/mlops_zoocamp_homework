{
 "cells": [
  {
   "cell_type": "markdown",
   "id": "6cb29f8c",
   "metadata": {},
   "source": [
    "# 02 Experiment tracking homework"
   ]
  },
  {
   "cell_type": "markdown",
   "id": "cfbafb01",
   "metadata": {},
   "source": [
    "## Q1. Install MLflow\n",
    "\n",
    "To get started with MLflow you'll need to install the MLflow Python package.\n",
    "\n",
    "For this we recommend creating a separate Python environment, for example, you can use conda environments, and then install the package there with pip or conda.\n",
    "\n",
    "Once you installed the package, run the command mlflow --version and check the output.\n",
    "\n",
    "What's the version that you have?"
   ]
  },
  {
   "cell_type": "code",
   "execution_count": 3,
   "id": "f91c1c95",
   "metadata": {},
   "outputs": [
    {
     "name": "stdout",
     "output_type": "stream",
     "text": [
      "/opt/anaconda3/lib/python3.9/site-packages/pandas/core/computation/expressions.py:21: UserWarning: Pandas requires version '2.8.4' or newer of 'numexpr' (version '2.8.1' currently installed).\n",
      "  from pandas.core.computation.check import NUMEXPR_INSTALLED\n",
      "/opt/anaconda3/lib/python3.9/site-packages/pandas/core/arrays/masked.py:60: UserWarning: Pandas requires version '1.3.6' or newer of 'bottleneck' (version '1.3.4' currently installed).\n",
      "  from pandas.core import (\n",
      "mlflow, version 2.22.0\n"
     ]
    }
   ],
   "source": [
    "!mlflow --version"
   ]
  },
  {
   "cell_type": "markdown",
   "id": "af9569cd",
   "metadata": {},
   "source": [
    "## Q2. Download and preprocess the data\n",
    "\n",
    "We'll use the Green Taxi Trip Records dataset to predict the duration of each trip.\n",
    "\n",
    "Download the data for January, February and March 2023 in parquet format from [here](https://www1.nyc.gov/site/tlc/about/tlc-trip-record-data.page).\n",
    "\n",
    "Use the script `preprocess_data.py` located in the folder [homework](https://github.com/DataTalksClub/mlops-zoomcamp/blob/main/cohorts/2024/02-experiment-tracking/homework) to preprocess the data.\n",
    "\n",
    "The script will:\n",
    "\n",
    "- load the data from the folder `<TAXI_DATA_FOLDER>` (the folder where you have downloaded the data),\n",
    "- fit a `DictVectorizer` on the training set (January 2023 data),\n",
    "- save the preprocessed datasets and the `DictVectorizer` to disk.\n",
    "\n",
    "Your task is to download the datasets and then execute this command:\n",
    "```\n",
    "python preprocess_data.py --raw_data_path <TAXI_DATA_FOLDER> --dest_path ./output\n",
    "```\n",
    "Tip: go to `02-experiment-tracking/homework/` folder before executing the command and change the value of `<TAXI_DATA_FOLDER>` to the location where you saved the data.\n",
    "\n",
    "How many files were saved to `OUTPUT_FOLDER`?\n",
    "\n",
    "* 1\n",
    "* 3\n",
    "* 4\n",
    "* 7"
   ]
  },
  {
   "cell_type": "code",
   "execution_count": 4,
   "id": "6f8d589b",
   "metadata": {},
   "outputs": [
    {
     "name": "stdout",
     "output_type": "stream",
     "text": [
      "/opt/anaconda3/lib/python3.9/site-packages/pandas/core/computation/expressions.py:21: UserWarning: Pandas requires version '2.8.4' or newer of 'numexpr' (version '2.8.1' currently installed).\r\n",
      "  from pandas.core.computation.check import NUMEXPR_INSTALLED\r\n",
      "/opt/anaconda3/lib/python3.9/site-packages/pandas/core/arrays/masked.py:60: UserWarning: Pandas requires version '1.3.6' or newer of 'bottleneck' (version '1.3.4' currently installed).\r\n",
      "  from pandas.core import (\r\n"
     ]
    }
   ],
   "source": [
    "!python preprocess_data.py --raw_data_path ../dataset --dest_path ./output"
   ]
  },
  {
   "cell_type": "code",
   "execution_count": 12,
   "id": "67f0dabc",
   "metadata": {},
   "outputs": [
    {
     "name": "stdout",
     "output_type": "stream",
     "text": [
      "dv.pkl\r\n",
      "kk\r\n",
      "test.pkl\r\n",
      "train.pkl\r\n",
      "val.pkl\r\n"
     ]
    }
   ],
   "source": [
    "! ls -1 output "
   ]
  },
  {
   "cell_type": "code",
   "execution_count": null,
   "id": "b3470195",
   "metadata": {},
   "outputs": [],
   "source": []
  },
  {
   "cell_type": "markdown",
   "id": "762a0dac",
   "metadata": {},
   "source": [
    "## Response\n",
    "There are 4 files saved in `OUTPU_FOLDER`."
   ]
  },
  {
   "cell_type": "markdown",
   "id": "3cceae19",
   "metadata": {},
   "source": [
    "## Q3. Train a model with autolog\n",
    "\n",
    "We will train a `RandomForestRegressor` (from Scikit-Learn) on the taxi dataset.\n",
    "\n",
    "We have prepared the training script `train.py` for this exercise, which can be also found in the folder [`homework`](homework). \n",
    "\n",
    "The script will:\n",
    "\n",
    "* load the datasets produced by the previous step,\n",
    "* train the model on the training set,\n",
    "* calculate the RMSE score on the validation set.\n",
    "\n",
    "Your task is to modify the script to enable **autologging** with MLflow, execute the script and then launch the MLflow UI to check that the experiment run was properly tracked. \n",
    "\n",
    "Tip 1: don't forget to wrap the training code with a `with mlflow.start_run():` statement as we showed in the videos.\n",
    "\n",
    "Tip 2: don't modify the hyperparameters of the model to make sure that the training will finish quickly.\n",
    "\n",
    "What is the value of the `min_samples_split` parameter ?\n",
    "\n",
    "* 2\n",
    "* 4\n",
    "* 8\n",
    "* 10"
   ]
  },
  {
   "cell_type": "markdown",
   "id": "3d165aa0",
   "metadata": {},
   "source": [
    "Run in shell:\n",
    "```\n",
    "mlflow ui --backend-store-uri sqlite:///mlflow.db -h 0.0.0.0\n",
    "```\n",
    "Browse [mlflow](http://localhost:5000/)"
   ]
  },
  {
   "cell_type": "code",
   "execution_count": 13,
   "id": "ad4d7695",
   "metadata": {},
   "outputs": [],
   "source": [
    "#Load MLflow\n",
    "import mlflow\n",
    "\n",
    "mlflow.set_tracking_uri(\"sqlite:///mlflow.db\")"
   ]
  },
  {
   "cell_type": "code",
   "execution_count": 14,
   "id": "c3db3227",
   "metadata": {},
   "outputs": [
    {
     "name": "stderr",
     "output_type": "stream",
     "text": [
      "2025/05/25 11:18:58 INFO mlflow.tracking.fluent: Experiment with name 'hw-02' does not exist. Creating a new experiment.\n"
     ]
    },
    {
     "data": {
      "text/plain": [
       "<Experiment: artifact_location='/app/02_Experiment_tracking/mlruns/1', creation_time=1748171938395, experiment_id='1', last_update_time=1748171938395, lifecycle_stage='active', name='hw-02', tags={}>"
      ]
     },
     "execution_count": 14,
     "metadata": {},
     "output_type": "execute_result"
    }
   ],
   "source": [
    "#Experiment name\n",
    "mlflow.set_experiment(\"hw-02\")"
   ]
  },
  {
   "cell_type": "code",
   "execution_count": 15,
   "id": "da2f947e",
   "metadata": {},
   "outputs": [],
   "source": [
    "import os\n",
    "import pickle\n",
    "\n",
    "from sklearn.ensemble import RandomForestRegressor\n",
    "from sklearn.metrics import mean_squared_error\n",
    "\n",
    "\n",
    "def load_pickle(filename: str):\n",
    "    with open(filename, \"rb\") as f_in:\n",
    "        return pickle.load(f_in)"
   ]
  },
  {
   "cell_type": "code",
   "execution_count": 16,
   "id": "62a04ee4",
   "metadata": {},
   "outputs": [
    {
     "name": "stderr",
     "output_type": "stream",
     "text": [
      "2025/05/25 11:19:09 INFO mlflow.tracking.fluent: Autologging successfully enabled for sklearn.\n",
      "2025/05/25 11:19:09 WARNING mlflow.tracking.context.registry: Encountered unexpected error during resolving tags: 'getpwuid(): uid not found: 1001'\n",
      "2025/05/25 11:19:09 WARNING mlflow.utils.git_utils: Failed to import Git (the Git executable is probably not on your PATH), so Git SHA is not available. Error: Failed to initialize: Bad git executable.\n",
      "The git executable must be specified in one of the following ways:\n",
      "    - be included in your $PATH\n",
      "    - be set via $GIT_PYTHON_GIT_EXECUTABLE\n",
      "    - explicitly set via git.refresh(<full-path-to-git-executable>)\n",
      "\n",
      "All git commands will error until this is rectified.\n",
      "\n",
      "This initial message can be silenced or aggravated in the future by setting the\n",
      "$GIT_PYTHON_REFRESH environment variable. Use one of the following values:\n",
      "    - quiet|q|silence|s|silent|none|n|0: for no message or exception\n",
      "    - warn|w|warning|log|l|1: for a warning message (logging level CRITICAL, displayed by default)\n",
      "    - error|e|exception|raise|r|2: for a raised exception\n",
      "\n",
      "Example:\n",
      "    export GIT_PYTHON_REFRESH=quiet\n",
      "\n",
      "2025/05/25 11:19:09 WARNING mlflow.tracking.context.registry: Encountered unexpected error during resolving tags: 'getpwuid(): uid not found: 1001'\n",
      "2025/05/25 11:19:30 WARNING mlflow.utils.environment: Encountered an unexpected error while inferring pip requirements (model URI: /tmp/tmpc7l61csm/model/model.pkl, flavor: sklearn). Fall back to return ['scikit-learn==1.0.2', 'cloudpickle==2.0.0']. Set logging level to DEBUG to see the full traceback. \n",
      "2025/05/25 11:19:31 WARNING mlflow.tracking.context.registry: Encountered unexpected error during resolving tags: 'getpwuid(): uid not found: 1001'\n"
     ]
    }
   ],
   "source": [
    "data_path=\"./output\"\n",
    "\n",
    "mlflow.autolog()\n",
    "\n",
    "with mlflow.start_run():\n",
    "    \n",
    "    max_depth=10\n",
    "    random_state=0\n",
    "\n",
    "    X_train, y_train = load_pickle(os.path.join(data_path, \"train.pkl\"))\n",
    "    X_val, y_val = load_pickle(os.path.join(data_path, \"val.pkl\"))\n",
    "\n",
    "    rf = RandomForestRegressor(max_depth=10, random_state=0)\n",
    "    rf.fit(X_train, y_train)\n",
    "    y_pred = rf.predict(X_val)\n",
    "\n",
    "    rmse = mean_squared_error(y_val, y_pred, squared=False)\n"
   ]
  },
  {
   "cell_type": "markdown",
   "id": "d721e01c",
   "metadata": {},
   "source": [
    "## Response\n",
    "In mlflow ui, in the experiment run paramenters I could find: `min_samples_split=2`"
   ]
  },
  {
   "cell_type": "markdown",
   "id": "688b29ba",
   "metadata": {},
   "source": [
    "## Q4. Launch the tracking server locally\n",
    "\n",
    "Now we want to manage the entire lifecycle of our ML model. In this step, you'll need to launch a tracking server. This way we will also have access to the model registry. \n",
    "\n",
    "Your task is to:\n",
    "\n",
    "* launch the tracking server on your local machine,\n",
    "* select a SQLite db for the backend store and a folder called `artifacts` for the artifacts store.\n",
    "\n",
    "You should keep the tracking server running to work on the next two exercises that use the server.\n",
    "\n",
    "In addition to `backend-store-uri`, what else do you need to pass to properly configure the server?\n",
    "\n",
    "* `default-artifact-root`\n",
    "* `serve-artifacts`\n",
    "* `artifacts-only`\n",
    "* `artifacts-destination`"
   ]
  },
  {
   "cell_type": "markdown",
   "id": "9e3832a5",
   "metadata": {},
   "source": [
    "Start MLflow UI in the container:\n",
    "(this is dirt but only intendended for the Homework, mlflow should be running it is own container)\n",
    "\n",
    "```\n",
    "docker exec -it jupyter bash\n",
    "\n",
    "mlflow ui --backend-store-uri sqlite:///mlflow.db -h 0.0.0.0 --default-artifact-root artifacts\n",
    "```\n",
    "Browse [mlflow](http://localhost:5000)\n"
   ]
  },
  {
   "cell_type": "markdown",
   "id": "35cff75b",
   "metadata": {},
   "source": [
    "## Response\n",
    "The parameter `default-artifact-root` also need to be indicated. The artifacts are going to be creatend in that folder"
   ]
  },
  {
   "cell_type": "markdown",
   "id": "40f1ec90",
   "metadata": {},
   "source": [
    "## Q5. Tune model hyperparameters\n",
    "\n",
    "Now let's try to reduce the validation error by tuning the hyperparameters of the `RandomForestRegressor` using `hyperopt`. \n",
    "We have prepared the script `hpo.py` for this exercise. \n",
    "\n",
    "Your task is to modify the script `hpo.py` and make sure that the validation RMSE is logged to the tracking server for each run of the hyperparameter optimization (you will need to add a few lines of code to the `objective` function) and run the script without passing any parameters.\n",
    "\n",
    "After that, open UI and explore the runs from the experiment called `random-forest-hyperopt` to answer the question below.\n",
    "\n",
    "Note: Don't use autologging for this exercise.\n",
    "\n",
    "The idea is to just log the information that you need to answer the question below, including:\n",
    "\n",
    "* the list of hyperparameters that are passed to the `objective` function during the optimization,\n",
    "* the RMSE obtained on the validation set (February 2023 data).\n",
    "\n",
    "What's the best validation RMSE that you got?\n",
    "\n",
    "* 4.817\n",
    "* 5.335\n",
    "* 5.818\n",
    "* 6.336"
   ]
  },
  {
   "cell_type": "code",
   "execution_count": 37,
   "id": "d963db43",
   "metadata": {},
   "outputs": [
    {
     "name": "stdout",
     "output_type": "stream",
     "text": [
      "/opt/anaconda3/lib/python3.9/site-packages/pandas/core/computation/expressions.py:21: UserWarning: Pandas requires version '2.8.4' or newer of 'numexpr' (version '2.8.1' currently installed).\n",
      "  from pandas.core.computation.check import NUMEXPR_INSTALLED\n",
      "/opt/anaconda3/lib/python3.9/site-packages/pandas/core/arrays/masked.py:60: UserWarning: Pandas requires version '1.3.6' or newer of 'bottleneck' (version '1.3.4' currently installed).\n",
      "  from pandas.core import (\n",
      "  0%|                                    | 0/15 [00:00<?, ?trial/s, best loss=?]2025/05/18 09:28:12 WARNING mlflow.tracking.context.registry: Encountered unexpected error during resolving tags: 'getpwuid(): uid not found: 1001'\n",
      "\n",
      "2025/05/18 09:28:12 WARNING mlflow.utils.git_utils: Failed to import Git (the Git executable is probably not on your PATH), so Git SHA is not available. Error: Failed to initialize: Bad git executable.\n",
      "The git executable must be specified in one of the following ways:\n",
      "    - be included in your $PATH\n",
      "    - be set via $GIT_PYTHON_GIT_EXECUTABLE\n",
      "    - explicitly set via git.refresh(<full-path-to-git-executable>)\n",
      "\n",
      "All git commands will error until this is rectified.\n",
      "\n",
      "This initial message can be silenced or aggravated in the future by setting the\n",
      "$GIT_PYTHON_REFRESH environment variable. Use one of the following values:\n",
      "    - quiet|q|silence|s|silent|none|n|0: for no message or exception\n",
      "    - warn|w|warning|log|l|1: for a warning message (logging level CRITICAL, displayed by default)\n",
      "    - error|e|exception|raise|r|2: for a raised exception\n",
      "\n",
      "Example:\n",
      "    export GIT_PYTHON_REFRESH=quiet\n",
      "\n",
      "\n",
      "🏃 View run nervous-trout-587 at: http://127.0.0.1:5000/#/experiments/2/runs/a6bbd7d38c7046fbaa95d5f0fddd91d9\n",
      "\n",
      "🧪 View experiment at: http://127.0.0.1:5000/#/experiments/2                    \n",
      "\n",
      "  7%|▋          | 1/15 [00:07<01:45,  7.56s/trial, best loss: 5.370086069268862]2025/05/18 09:28:20 WARNING mlflow.tracking.context.registry: Encountered unexpected error during resolving tags: 'getpwuid(): uid not found: 1001'\n",
      "\n",
      "🏃 View run flawless-moth-787 at: http://127.0.0.1:5000/#/experiments/2/runs/cca5ef79142347d2acf4fe8e1e6bddea\n",
      "\n",
      "🧪 View experiment at: http://127.0.0.1:5000/#/experiments/2                    \n",
      "\n",
      " 13%|█▍         | 2/15 [00:08<00:44,  3.45s/trial, best loss: 5.370086069268862]2025/05/18 09:28:20 WARNING mlflow.tracking.context.registry: Encountered unexpected error during resolving tags: 'getpwuid(): uid not found: 1001'\n",
      "\n",
      "🏃 View run spiffy-stag-569 at: http://127.0.0.1:5000/#/experiments/2/runs/9a222f63288a4090aa62848ecd90b0c5\n",
      "\n",
      "🧪 View experiment at: http://127.0.0.1:5000/#/experiments/2                    \n",
      "\n",
      " 20%|██▏        | 3/15 [00:08<00:26,  2.19s/trial, best loss: 5.370086069268862]2025/05/18 09:28:21 WARNING mlflow.tracking.context.registry: Encountered unexpected error during resolving tags: 'getpwuid(): uid not found: 1001'\n",
      "\n",
      "🏃 View run charming-fly-432 at: http://127.0.0.1:5000/#/experiments/2/runs/43a2f1bf2c5e4e3487a6f12a332d71cd\n",
      "\n",
      "🧪 View experiment at: http://127.0.0.1:5000/#/experiments/2                    \n",
      "\n",
      " 27%|██▉        | 4/15 [00:14<00:37,  3.44s/trial, best loss: 5.357490752366866]2025/05/18 09:28:26 WARNING mlflow.tracking.context.registry: Encountered unexpected error during resolving tags: 'getpwuid(): uid not found: 1001'\n",
      "\n",
      "🏃 View run crawling-shrew-626 at: http://127.0.0.1:5000/#/experiments/2/runs/f485f8e3443341d5894f361eb185f630\n",
      "\n",
      "🧪 View experiment at: http://127.0.0.1:5000/#/experiments/2                    \n",
      "\n",
      " 33%|███▋       | 5/15 [00:16<00:31,  3.14s/trial, best loss: 5.357490752366866]2025/05/18 09:28:29 WARNING mlflow.tracking.context.registry: Encountered unexpected error during resolving tags: 'getpwuid(): uid not found: 1001'\n",
      "\n",
      "🏃 View run bittersweet-loon-320 at: http://127.0.0.1:5000/#/experiments/2/runs/0f3a0df2d39a42f98c0f1aa1c7f2ecd0\n",
      "\n",
      "🧪 View experiment at: http://127.0.0.1:5000/#/experiments/2                    \n",
      "\n",
      " 40%|████▍      | 6/15 [00:25<00:45,  5.08s/trial, best loss: 5.354695072530291]2025/05/18 09:28:38 WARNING mlflow.tracking.context.registry: Encountered unexpected error during resolving tags: 'getpwuid(): uid not found: 1001'\n",
      "\n",
      "🏃 View run sedate-slug-561 at: http://127.0.0.1:5000/#/experiments/2/runs/529d829bfcf2499fabb4a1ca56032115\n",
      "\n",
      "🧪 View experiment at: http://127.0.0.1:5000/#/experiments/2                    \n",
      "\n",
      " 47%|█████▏     | 7/15 [00:34<00:50,  6.37s/trial, best loss: 5.354695072530291]2025/05/18 09:28:47 WARNING mlflow.tracking.context.registry: Encountered unexpected error during resolving tags: 'getpwuid(): uid not found: 1001'\n",
      "\n",
      "🏃 View run popular-moth-208 at: http://127.0.0.1:5000/#/experiments/2/runs/4509d3bbfc4a4a6796ca56c648a212c0\n",
      "\n",
      "🧪 View experiment at: http://127.0.0.1:5000/#/experiments/2                    \n",
      "\n",
      " 53%|█████▊     | 8/15 [00:35<00:33,  4.72s/trial, best loss: 5.354695072530291]2025/05/18 09:28:48 WARNING mlflow.tracking.context.registry: Encountered unexpected error during resolving tags: 'getpwuid(): uid not found: 1001'\n",
      "\n",
      "🏃 View run capable-fawn-607 at: http://127.0.0.1:5000/#/experiments/2/runs/f8e79ae0520a448fabd756e57dab3350\n",
      "\n",
      "🧪 View experiment at: http://127.0.0.1:5000/#/experiments/2                    \n",
      "\n",
      " 60%|██████▌    | 9/15 [00:41<00:30,  5.05s/trial, best loss: 5.354695072530291]2025/05/18 09:28:54 WARNING mlflow.tracking.context.registry: Encountered unexpected error during resolving tags: 'getpwuid(): uid not found: 1001'\n",
      "\n",
      "🏃 View run colorful-sow-23 at: http://127.0.0.1:5000/#/experiments/2/runs/8a4a0bac7d214d5e9d6a0cc9520c1fe1\n",
      "\n",
      "🧪 View experiment at: http://127.0.0.1:5000/#/experiments/2                    \n",
      "\n",
      " 67%|██████▋   | 10/15 [00:46<00:25,  5.11s/trial, best loss: 5.354695072530291]2025/05/18 09:28:59 WARNING mlflow.tracking.context.registry: Encountered unexpected error during resolving tags: 'getpwuid(): uid not found: 1001'\n",
      "\n",
      "🏃 View run skillful-colt-905 at: http://127.0.0.1:5000/#/experiments/2/runs/30dfb35c42274a549c6e5ec41d70e033\n",
      "\n",
      "🧪 View experiment at: http://127.0.0.1:5000/#/experiments/2                    \n",
      "\n",
      " 73%|███████▎  | 11/15 [00:50<00:19,  4.76s/trial, best loss: 5.335419588556921]2025/05/18 09:29:03 WARNING mlflow.tracking.context.registry: Encountered unexpected error during resolving tags: 'getpwuid(): uid not found: 1001'\n",
      "\n",
      "🏃 View run dashing-trout-278 at: http://127.0.0.1:5000/#/experiments/2/runs/dbea8645b62c4237b4c39c1a829e33b3\n",
      "\n",
      "🧪 View experiment at: http://127.0.0.1:5000/#/experiments/2                    \n",
      "\n",
      " 80%|████████  | 12/15 [00:53<00:12,  4.18s/trial, best loss: 5.335419588556921]2025/05/18 09:29:06 WARNING mlflow.tracking.context.registry: Encountered unexpected error during resolving tags: 'getpwuid(): uid not found: 1001'\n",
      "\n",
      "🏃 View run nosy-flea-49 at: http://127.0.0.1:5000/#/experiments/2/runs/cfcc0083879a4337ad6d18c040cb0b2c\n",
      "\n",
      "🧪 View experiment at: http://127.0.0.1:5000/#/experiments/2                    \n",
      "\n",
      " 87%|████████▋ | 13/15 [00:54<00:06,  3.26s/trial, best loss: 5.335419588556921]2025/05/18 09:29:07 WARNING mlflow.tracking.context.registry: Encountered unexpected error during resolving tags: 'getpwuid(): uid not found: 1001'\n",
      "\n",
      "🏃 View run gifted-bear-217 at: http://127.0.0.1:5000/#/experiments/2/runs/402a27b3ec8f490a8af27c6011fbb452\n",
      "\n",
      "🧪 View experiment at: http://127.0.0.1:5000/#/experiments/2                    \n",
      "\n",
      " 93%|█████████▎| 14/15 [00:58<00:03,  3.45s/trial, best loss: 5.335419588556921]2025/05/18 09:29:11 WARNING mlflow.tracking.context.registry: Encountered unexpected error during resolving tags: 'getpwuid(): uid not found: 1001'\n",
      "\n",
      "🏃 View run victorious-slug-412 at: http://127.0.0.1:5000/#/experiments/2/runs/1ce184f2132544329de8284a36856e54\n",
      "\n",
      "🧪 View experiment at: http://127.0.0.1:5000/#/experiments/2                    \n",
      "\n",
      "100%|██████████| 15/15 [01:04<00:00,  4.31s/trial, best loss: 5.335419588556921]\n"
     ]
    }
   ],
   "source": [
    "!python homework_hpo.py --data_path=./output"
   ]
  },
  {
   "cell_type": "markdown",
   "id": "a90f102a",
   "metadata": {},
   "source": [
    "## Response\n",
    "Adding metric `rmse` to the runs table and sorting it by this coulmn, I got that the best is `5.33`"
   ]
  },
  {
   "cell_type": "markdown",
   "id": "f402865a",
   "metadata": {},
   "source": [
    "## Q6. Promote the best model to the model registry\n",
    "\n",
    "The results from the hyperparameter optimization are quite good. So, we can assume that we are ready to test some of these models in production. \n",
    "In this exercise, you'll promote the best model to the model registry. We have prepared a script called `register_model.py`, which will check the results from the previous step and select the top 5 runs. \n",
    "After that, it will calculate the RMSE of those models on the test set (March 2023 data) and save the results to a new experiment called `random-forest-best-models`.\n",
    "\n",
    "Your task is to update the script `register_model.py` so that it selects the model with the lowest RMSE on the test set and registers it to the model registry.\n",
    "\n",
    "Tip 1: you can use the method `search_runs` from the `MlflowClient` to get the model with the lowest RMSE,\n",
    "\n",
    "Tip 2: to register the model you can use the method `mlflow.register_model` and you will need to pass the right `model_uri` in the form of a string that looks like this: `\"runs:/<RUN_ID>/model\"`, and the name of the model (make sure to choose a good one!).\n",
    "\n",
    "What is the test RMSE of the best model?\n",
    "\n",
    "* 5.060\n",
    "* 5.567\n",
    "* 6.061\n",
    "* 6.568"
   ]
  },
  {
   "cell_type": "code",
   "execution_count": 67,
   "id": "700b6805",
   "metadata": {},
   "outputs": [
    {
     "name": "stdout",
     "output_type": "stream",
     "text": [
      "/opt/anaconda3/lib/python3.9/site-packages/pandas/core/computation/expressions.py:21: UserWarning: Pandas requires version '2.8.4' or newer of 'numexpr' (version '2.8.1' currently installed).\n",
      "  from pandas.core.computation.check import NUMEXPR_INSTALLED\n",
      "/opt/anaconda3/lib/python3.9/site-packages/pandas/core/arrays/masked.py:60: UserWarning: Pandas requires version '1.3.6' or newer of 'bottleneck' (version '1.3.4' currently installed).\n",
      "  from pandas.core import (\n",
      "2025/05/18 10:06:16 WARNING mlflow.tracking.context.registry: Encountered unexpected error during resolving tags: 'getpwuid(): uid not found: 1001'\n",
      "2025/05/18 10:06:16 WARNING mlflow.utils.git_utils: Failed to import Git (the Git executable is probably not on your PATH), so Git SHA is not available. Error: Failed to initialize: Bad git executable.\n",
      "The git executable must be specified in one of the following ways:\n",
      "    - be included in your $PATH\n",
      "    - be set via $GIT_PYTHON_GIT_EXECUTABLE\n",
      "    - explicitly set via git.refresh(<full-path-to-git-executable>)\n",
      "\n",
      "All git commands will error until this is rectified.\n",
      "\n",
      "This initial message can be silenced or aggravated in the future by setting the\n",
      "$GIT_PYTHON_REFRESH environment variable. Use one of the following values:\n",
      "    - quiet|q|silence|s|silent|none|n|0: for no message or exception\n",
      "    - warn|w|warning|log|l|1: for a warning message (logging level CRITICAL, displayed by default)\n",
      "    - error|e|exception|raise|r|2: for a raised exception\n",
      "\n",
      "Example:\n",
      "    export GIT_PYTHON_REFRESH=quiet\n",
      "\n",
      "2025/05/18 10:06:16 WARNING mlflow.tracking.context.registry: Encountered unexpected error during resolving tags: 'getpwuid(): uid not found: 1001'\n",
      "2025/05/18 10:06:24 WARNING mlflow.utils.environment: Encountered an unexpected error while inferring pip requirements (model URI: /tmp/tmpsp8b1ky4/model/model.pkl, flavor: sklearn). Fall back to return ['scikit-learn==1.0.2', 'cloudpickle==2.0.0']. Set logging level to DEBUG to see the full traceback. \n",
      "2025/05/18 10:06:24 WARNING mlflow.tracking.context.registry: Encountered unexpected error during resolving tags: 'getpwuid(): uid not found: 1001'\n",
      "2025/05/18 10:06:26 WARNING mlflow.tracking.context.registry: Encountered unexpected error during resolving tags: 'getpwuid(): uid not found: 1001'\n",
      "🏃 View run luminous-squid-700 at: http://127.0.0.1:5000/#/experiments/3/runs/86a6339da66a4490808b4522f9df5749\n",
      "🧪 View experiment at: http://127.0.0.1:5000/#/experiments/3\n",
      "2025/05/18 10:06:27 WARNING mlflow.tracking.context.registry: Encountered unexpected error during resolving tags: 'getpwuid(): uid not found: 1001'\n",
      "2025/05/18 10:06:27 WARNING mlflow.tracking.context.registry: Encountered unexpected error during resolving tags: 'getpwuid(): uid not found: 1001'\n",
      "2025/05/18 10:06:40 WARNING mlflow.utils.environment: Encountered an unexpected error while inferring pip requirements (model URI: /tmp/tmpda2ofn1h/model/model.pkl, flavor: sklearn). Fall back to return ['scikit-learn==1.0.2', 'cloudpickle==2.0.0']. Set logging level to DEBUG to see the full traceback. \n",
      "2025/05/18 10:06:41 WARNING mlflow.tracking.context.registry: Encountered unexpected error during resolving tags: 'getpwuid(): uid not found: 1001'\n",
      "2025/05/18 10:06:42 WARNING mlflow.tracking.context.registry: Encountered unexpected error during resolving tags: 'getpwuid(): uid not found: 1001'\n",
      "🏃 View run clean-doe-91 at: http://127.0.0.1:5000/#/experiments/3/runs/b44ba36fdffc4258b029a4d4300d591f\n",
      "🧪 View experiment at: http://127.0.0.1:5000/#/experiments/3\n",
      "2025/05/18 10:06:44 WARNING mlflow.tracking.context.registry: Encountered unexpected error during resolving tags: 'getpwuid(): uid not found: 1001'\n",
      "2025/05/18 10:06:44 WARNING mlflow.tracking.context.registry: Encountered unexpected error during resolving tags: 'getpwuid(): uid not found: 1001'\n",
      "2025/05/18 10:06:53 WARNING mlflow.utils.environment: Encountered an unexpected error while inferring pip requirements (model URI: /tmp/tmp7eqed7o3/model/model.pkl, flavor: sklearn). Fall back to return ['scikit-learn==1.0.2', 'cloudpickle==2.0.0']. Set logging level to DEBUG to see the full traceback. \n",
      "2025/05/18 10:06:53 WARNING mlflow.tracking.context.registry: Encountered unexpected error during resolving tags: 'getpwuid(): uid not found: 1001'\n",
      "2025/05/18 10:06:55 WARNING mlflow.tracking.context.registry: Encountered unexpected error during resolving tags: 'getpwuid(): uid not found: 1001'\n",
      "🏃 View run abrasive-lynx-551 at: http://127.0.0.1:5000/#/experiments/3/runs/2742c3e94098460e9c8722d267d46f6b\n",
      "🧪 View experiment at: http://127.0.0.1:5000/#/experiments/3\n",
      "2025/05/18 10:06:57 WARNING mlflow.tracking.context.registry: Encountered unexpected error during resolving tags: 'getpwuid(): uid not found: 1001'\n",
      "2025/05/18 10:06:57 WARNING mlflow.tracking.context.registry: Encountered unexpected error during resolving tags: 'getpwuid(): uid not found: 1001'\n",
      "2025/05/18 10:07:07 WARNING mlflow.utils.environment: Encountered an unexpected error while inferring pip requirements (model URI: /tmp/tmp5sumu6mt/model/model.pkl, flavor: sklearn). Fall back to return ['scikit-learn==1.0.2', 'cloudpickle==2.0.0']. Set logging level to DEBUG to see the full traceback. \n",
      "2025/05/18 10:07:07 WARNING mlflow.tracking.context.registry: Encountered unexpected error during resolving tags: 'getpwuid(): uid not found: 1001'\n",
      "2025/05/18 10:07:09 WARNING mlflow.tracking.context.registry: Encountered unexpected error during resolving tags: 'getpwuid(): uid not found: 1001'\n",
      "🏃 View run delicate-colt-608 at: http://127.0.0.1:5000/#/experiments/3/runs/6580f98ebcd44538a1b538eafd75260e\n",
      "🧪 View experiment at: http://127.0.0.1:5000/#/experiments/3\n",
      "2025/05/18 10:07:10 WARNING mlflow.tracking.context.registry: Encountered unexpected error during resolving tags: 'getpwuid(): uid not found: 1001'\n",
      "2025/05/18 10:07:10 WARNING mlflow.tracking.context.registry: Encountered unexpected error during resolving tags: 'getpwuid(): uid not found: 1001'\n",
      "2025/05/18 10:07:20 WARNING mlflow.utils.environment: Encountered an unexpected error while inferring pip requirements (model URI: /tmp/tmpxex3rwcz/model/model.pkl, flavor: sklearn). Fall back to return ['scikit-learn==1.0.2', 'cloudpickle==2.0.0']. Set logging level to DEBUG to see the full traceback. \n",
      "2025/05/18 10:07:20 WARNING mlflow.tracking.context.registry: Encountered unexpected error during resolving tags: 'getpwuid(): uid not found: 1001'\n",
      "2025/05/18 10:07:22 WARNING mlflow.tracking.context.registry: Encountered unexpected error during resolving tags: 'getpwuid(): uid not found: 1001'\n",
      "🏃 View run wistful-zebra-424 at: http://127.0.0.1:5000/#/experiments/3/runs/81140c9f730043d7aef92811f88ff9a1\n",
      "🧪 View experiment at: http://127.0.0.1:5000/#/experiments/3\n",
      "Successfully registered model 'random-forest-best-model'.\n",
      "2025/05/18 10:07:24 INFO mlflow.store.model_registry.abstract_store: Waiting up to 300 seconds for model version to finish creation. Model name: random-forest-best-model, version 1\n",
      "Created version '1' of model 'random-forest-best-model'.\n"
     ]
    }
   ],
   "source": [
    "!python homework_register_model.py --data_path=./output"
   ]
  },
  {
   "cell_type": "markdown",
   "id": "6fca970a",
   "metadata": {},
   "source": [
    "## Response\n",
    "The best rmse: 5.567"
   ]
  },
  {
   "cell_type": "markdown",
   "id": "a5ee87e6",
   "metadata": {},
   "source": [
    "## Submit the results\n",
    "\n",
    "* Submit your results here: https://courses.datatalks.club/mlops-zoomcamp-2024/homework/hw2\n",
    "* If your answer doesn't match options exactly, select the closest one\n"
   ]
  },
  {
   "cell_type": "code",
   "execution_count": null,
   "id": "8cbcc17b",
   "metadata": {},
   "outputs": [],
   "source": []
  }
 ],
 "metadata": {
  "kernelspec": {
   "display_name": "Python 3 (ipykernel)",
   "language": "python",
   "name": "python3"
  },
  "language_info": {
   "codemirror_mode": {
    "name": "ipython",
    "version": 3
   },
   "file_extension": ".py",
   "mimetype": "text/x-python",
   "name": "python",
   "nbconvert_exporter": "python",
   "pygments_lexer": "ipython3",
   "version": "3.9.12"
  }
 },
 "nbformat": 4,
 "nbformat_minor": 5
}
